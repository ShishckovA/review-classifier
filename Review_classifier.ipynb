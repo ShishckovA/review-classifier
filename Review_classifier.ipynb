{
 "cells": [
  {
   "cell_type": "markdown",
   "metadata": {
    "id": "QB5mx2Ev9how"
   },
   "source": [
    "## Importing All the Needed Libraries"
   ]
  },
  {
   "cell_type": "code",
   "execution_count": 1,
   "metadata": {
    "colab": {
     "base_uri": "https://localhost:8080/"
    },
    "id": "VuLQLath9ho0",
    "outputId": "e180da38-9b50-4ed3-8752-05dfd30441c8"
   },
   "outputs": [
    {
     "name": "stderr",
     "output_type": "stream",
     "text": [
      "[nltk_data] Downloading package punkt to /home/alex/nltk_data...\n",
      "[nltk_data]   Package punkt is already up-to-date!\n",
      "[nltk_data] Downloading package stopwords to /home/alex/nltk_data...\n",
      "[nltk_data]   Package stopwords is already up-to-date!\n"
     ]
    }
   ],
   "source": [
    "import pandas as pd\n",
    "import re\n",
    "from nltk.tokenize import word_tokenize\n",
    "from nltk.stem.porter import PorterStemmer\n",
    "from nltk.corpus import stopwords\n",
    "from sklearn.feature_extraction.text import CountVectorizer\n",
    "import nltk\n",
    "\n",
    "import numpy as np\n",
    "\n",
    "nltk.download('punkt')\n",
    "nltk.download('stopwords');"
   ]
  },
  {
   "cell_type": "markdown",
   "metadata": {
    "id": "466z2s-h9ho1"
   },
   "source": [
    "## Loading the Data"
   ]
  },
  {
   "cell_type": "code",
   "execution_count": 2,
   "metadata": {
    "colab": {
     "base_uri": "https://localhost:8080/",
     "height": 204
    },
    "id": "GBGpPinx9ho2",
    "outputId": "a7916f06-68ea-4424-faf8-16bf4a977375"
   },
   "outputs": [
    {
     "data": {
      "text/html": [
       "<div>\n",
       "<style scoped>\n",
       "    .dataframe tbody tr th:only-of-type {\n",
       "        vertical-align: middle;\n",
       "    }\n",
       "\n",
       "    .dataframe tbody tr th {\n",
       "        vertical-align: top;\n",
       "    }\n",
       "\n",
       "    .dataframe thead th {\n",
       "        text-align: right;\n",
       "    }\n",
       "</style>\n",
       "<table border=\"1\" class=\"dataframe\">\n",
       "  <thead>\n",
       "    <tr style=\"text-align: right;\">\n",
       "      <th></th>\n",
       "      <th>review</th>\n",
       "      <th>liked</th>\n",
       "    </tr>\n",
       "  </thead>\n",
       "  <tbody>\n",
       "    <tr>\n",
       "      <th>0</th>\n",
       "      <td>Wow... Loved this place.</td>\n",
       "      <td>1</td>\n",
       "    </tr>\n",
       "    <tr>\n",
       "      <th>1</th>\n",
       "      <td>Crust is not good.</td>\n",
       "      <td>0</td>\n",
       "    </tr>\n",
       "    <tr>\n",
       "      <th>2</th>\n",
       "      <td>Not tasty and the texture was just nasty.</td>\n",
       "      <td>0</td>\n",
       "    </tr>\n",
       "    <tr>\n",
       "      <th>3</th>\n",
       "      <td>Stopped by during the late May bank holiday of...</td>\n",
       "      <td>1</td>\n",
       "    </tr>\n",
       "    <tr>\n",
       "      <th>4</th>\n",
       "      <td>The selection on the menu was great and so wer...</td>\n",
       "      <td>1</td>\n",
       "    </tr>\n",
       "  </tbody>\n",
       "</table>\n",
       "</div>"
      ],
      "text/plain": [
       "                                              review  liked\n",
       "0                           Wow... Loved this place.      1\n",
       "1                                 Crust is not good.      0\n",
       "2          Not tasty and the texture was just nasty.      0\n",
       "3  Stopped by during the late May bank holiday of...      1\n",
       "4  The selection on the menu was great and so wer...      1"
      ]
     },
     "execution_count": 2,
     "metadata": {},
     "output_type": "execute_result"
    }
   ],
   "source": [
    "url = \"https://raw.githubusercontent.com/ShishckovA/review-classifier/master/reviews.tsv\"\n",
    "reviews_data = pd.read_csv(url, sep = \"\\t\")\n",
    "reviews_data.columns = [\"review\", \"liked\"]\n",
    "reviews_data.head()"
   ]
  },
  {
   "cell_type": "markdown",
   "metadata": {
    "id": "vvMkh8j09ho4"
   },
   "source": [
    "## Preprate the Data"
   ]
  },
  {
   "cell_type": "code",
   "execution_count": 3,
   "metadata": {
    "id": "AhkBA3Vo9ho5"
   },
   "outputs": [],
   "source": [
    "stop_words = set(stopwords.words(\"english\"))\n",
    "stop_words.remove(\"not\")\n",
    "stop_words.remove(\"no\")\n",
    "\n",
    "def clean_review(review):\n",
    "    review = re.sub(\"[^A-Za-z]\", \" \", review)\n",
    "    review = review.lower()\n",
    "    stemmer = PorterStemmer()\n",
    "    review = [stemmer.stem(word) for word in word_tokenize(review) if (word not in stop_words)]\n",
    "    review = \" \".join(review)\n",
    "    return review"
   ]
  },
  {
   "cell_type": "code",
   "execution_count": 4,
   "metadata": {
    "colab": {
     "base_uri": "https://localhost:8080/"
    },
    "id": "-vyj9ha-9ho6",
    "outputId": "5268ffde-5e07-450d-adfa-f3bad57e2ea1"
   },
   "outputs": [
    {
     "name": "stdout",
     "output_type": "stream",
     "text": [
      "Wow... Loved this place.\n",
      "wow love place\n"
     ]
    }
   ],
   "source": [
    "review = reviews_data.review[0]\n",
    "print(review)\n",
    "\n",
    "cleaned_review = clean_review(review)\n",
    "print(cleaned_review)"
   ]
  },
  {
   "cell_type": "code",
   "execution_count": 5,
   "metadata": {
    "colab": {
     "base_uri": "https://localhost:8080/"
    },
    "id": "lsI-NMAs9ho7",
    "outputId": "5e136133-5688-40f5-89ac-68190198f7d8"
   },
   "outputs": [
    {
     "data": {
      "text/plain": [
       "array(['wow love place', 'crust not good', 'not tasti textur nasti',\n",
       "       'stop late may bank holiday rick steve recommend love',\n",
       "       'select menu great price'], dtype='<U106')"
      ]
     },
     "execution_count": 5,
     "metadata": {},
     "output_type": "execute_result"
    }
   ],
   "source": [
    "corpus = []\n",
    "for i in range(0, len(reviews_data)):\n",
    "    review = clean_review(reviews_data.review[i])\n",
    "    corpus.append(review)\n",
    "\n",
    "corpus = np.array(corpus)\n",
    "corpus[:5]"
   ]
  },
  {
   "cell_type": "markdown",
   "metadata": {
    "id": "N_mWbqJf9ho8"
   },
   "source": [
    "## Splitting data for learning"
   ]
  },
  {
   "cell_type": "code",
   "execution_count": 6,
   "metadata": {
    "id": "IQ4mafBY9ho8"
   },
   "outputs": [
    {
     "data": {
      "text/plain": [
       "(1000,)"
      ]
     },
     "execution_count": 6,
     "metadata": {},
     "output_type": "execute_result"
    }
   ],
   "source": [
    "X = corpus\n",
    "y = reviews_data[\"liked\"].values\n",
    "X.shape"
   ]
  },
  {
   "cell_type": "code",
   "execution_count": 7,
   "metadata": {
    "colab": {
     "base_uri": "https://localhost:8080/"
    },
    "id": "z8pkLoRZ-oTt",
    "outputId": "e5e16d21-246a-410d-88fd-7baae390dd83"
   },
   "outputs": [
    {
     "data": {
      "text/plain": [
       "((750,), (750,))"
      ]
     },
     "execution_count": 7,
     "metadata": {},
     "output_type": "execute_result"
    }
   ],
   "source": [
    "from sklearn.model_selection import train_test_split\n",
    "\n",
    "X_tr, X_te, y_tr, y_te, idx_tr, idx_te = train_test_split(X, y, np.arange(X.shape[0]), random_state=42)\n",
    "X_tr.shape, y_tr.shape"
   ]
  },
  {
   "cell_type": "markdown",
   "metadata": {},
   "source": [
    "## Setting up a pipeline of Tf-idf vectorizer and Gradient boosting classifier"
   ]
  },
  {
   "cell_type": "code",
   "execution_count": 8,
   "metadata": {
    "colab": {
     "base_uri": "https://localhost:8080/"
    },
    "id": "wp2HWkja-7tN",
    "outputId": "5bce9058-5661-41f1-8869-c3ea0d3c459f"
   },
   "outputs": [
    {
     "name": "stdout",
     "output_type": "stream",
     "text": [
      "Fitting 5 folds for each of 30 candidates, totalling 150 fits\n"
     ]
    },
    {
     "name": "stderr",
     "output_type": "stream",
     "text": [
      "[Parallel(n_jobs=-1)]: Using backend LokyBackend with 8 concurrent workers.\n",
      "[Parallel(n_jobs=-1)]: Done  16 tasks      | elapsed:    2.8s\n",
      "[Parallel(n_jobs=-1)]: Done 112 tasks      | elapsed:   13.3s\n",
      "[Parallel(n_jobs=-1)]: Done 150 out of 150 | elapsed:   17.6s finished\n"
     ]
    },
    {
     "name": "stdout",
     "output_type": "stream",
     "text": [
      "Best parameters: {'boosting__learning_rate': 0.1353352832366127, 'boosting__loss': 'deviance', 'boosting__n_estimators': 250}\n",
      " Best cv-sciore: 0.88\n"
     ]
    }
   ],
   "source": [
    "from sklearn.feature_extraction.text import TfidfVectorizer\n",
    "from sklearn.ensemble import GradientBoostingClassifier\n",
    "from sklearn.pipeline import Pipeline\n",
    "from sklearn.model_selection import GridSearchCV, KFold\n",
    "\n",
    "clf = Pipeline([(\"vectorizer\", TfidfVectorizer()), (\"boosting\", GradientBoostingClassifier(random_state=42))])\n",
    "\n",
    "grid = GridSearchCV(clf, param_grid={\n",
    "    \"boosting__loss\": [\"deviance\", \"exponential\"], \n",
    "    \"boosting__learning_rate\": np.exp(np.arange(-2, 1)),\n",
    "    \"boosting__n_estimators\": [200, 230, 250, 280, 300]\n",
    "}, scoring=\"roc_auc\", verbose=3, n_jobs=-1, cv=KFold(shuffle=True, random_state=43))\n",
    "\n",
    "grid.fit(X_tr, y_tr)\n",
    "\n",
    "print(\"Best parameters:\", grid.best_params_)\n",
    "print(\" Best cv-sciore: {:.2f}\".format(grid.best_score_))"
   ]
  },
  {
   "cell_type": "markdown",
   "metadata": {},
   "source": [
    "## Evaluating model on different metrics and examples"
   ]
  },
  {
   "cell_type": "code",
   "execution_count": 9,
   "metadata": {
    "colab": {
     "base_uri": "https://localhost:8080/",
     "height": 330
    },
    "id": "vByLtV4y_RjT",
    "outputId": "dca22ada-5ff7-4bbc-e08a-d17aebf4e946"
   },
   "outputs": [
    {
     "name": "stdout",
     "output_type": "stream",
     "text": [
      " Roc_auc: 0.831\n",
      "Accuracy: 0.732\n"
     ]
    },
    {
     "data": {
      "image/png": "[encoded data removed]",
      "text/plain": [
       "<Figure size 432x288 with 2 Axes>"
      ]
     },
     "metadata": {
      "needs_background": "light"
     },
     "output_type": "display_data"
    }
   ],
   "source": [
    "from sklearn.metrics import plot_confusion_matrix, roc_auc_score, accuracy_score\n",
    "\n",
    "my_roc_auc = roc_auc_score(y_te, grid.predict_proba(X_te)[:, 1])\n",
    "my_accuracy = accuracy_score(y_te, grid.predict(X_te))\n",
    "print(\" Roc_auc: {:.3f}\".format(my_roc_auc))\n",
    "print(\"Accuracy: {:.3f}\".format(my_accuracy))\n",
    "plot_confusion_matrix(grid, X_te, y_te);"
   ]
  },
  {
   "cell_type": "code",
   "execution_count": 10,
   "metadata": {
    "colab": {
     "base_uri": "https://localhost:8080/"
    },
    "id": "zG48yofSG45s",
    "outputId": "9385588a-f6d4-467d-a855-4542579c4924"
   },
   "outputs": [
    {
     "name": "stdout",
     "output_type": "stream",
     "text": [
      "1 If you haven't gone here GO NOW! gone go\n",
      "1 Come hungry, leave happy and stuffed! come hungri leav happi stuf\n",
      "1 I had a seriously solid breakfast here. serious solid breakfast\n",
      "0 The food wasn't good. food good\n",
      "1 I went to Bachi Burger on a friend's recommendation and was not disappointed. went bachi burger friend recommend not disappoint\n",
      "1 My boyfriend and I came here for the first time on a recent trip to Vegas and could not have been more pleased with the quality of food and service. boyfriend came first time recent trip vega could not pleas qualiti food servic\n",
      "0 If that bug never showed up I would have given a 4 for sure, but on the other side of the wall where this bug was climbing was the kitchen. bug never show would given sure side wall bug climb kitchen\n",
      "0 The Buffet at Bellagio was far from what I anticipated. buffet bellagio far anticip\n",
      "0 I was VERY disappointed!! disappoint\n",
      "1 This place is like Chipotle, but BETTER. place like chipotl better\n"
     ]
    }
   ],
   "source": [
    "bad_predicts = (y_te != grid.predict(X_te))\n",
    "X_raw = reviews_data[\"review\"].values\n",
    "bad_st_id = idx_te[bad_predicts][:10]\n",
    "for text, true, text_clean in zip(X_raw[bad_st_id], y[bad_st_id], corpus[bad_st_id]):\n",
    "    print(true, text, text_clean)"
   ]
  },
  {
   "cell_type": "code",
   "execution_count": 11,
   "metadata": {
    "colab": {
     "base_uri": "https://localhost:8080/"
    },
    "id": "FRDcfnN6IJR0",
    "outputId": "b62a16c0-bcec-495b-b848-a4f236d28c22"
   },
   "outputs": [
    {
     "data": {
      "text/plain": [
       "array(['great', 'not', 'good', 'delici', 'love', 'amaz', 'nice',\n",
       "       'restaur', 'friendli', 'awesom', 'excel', 'disappoint', 'enjoy',\n",
       "       'perfect', 'fantast', 'bad', 'best', 'no', 'fun', 'everi'],\n",
       "      dtype='<U17')"
      ]
     },
     "execution_count": 11,
     "metadata": {},
     "output_type": "execute_result"
    }
   ],
   "source": [
    "feature_imps = grid.best_estimator_[\"boosting\"].feature_importances_\n",
    "res = feature_imps.argsort()[::-1]\n",
    "np.array(grid.best_estimator_[\"vectorizer\"].get_feature_names())[res][:20]"
   ]
  },
  {
   "cell_type": "code",
   "execution_count": 12,
   "metadata": {
    "colab": {
     "base_uri": "https://localhost:8080/"
    },
    "id": "21t0NGXlLcIa",
    "outputId": "08715846-f0b0-4b6b-ef7b-75fbe97ce7e7"
   },
   "outputs": [
    {
     "data": {
      "text/plain": [
       "array([1, 0, 0])"
      ]
     },
     "execution_count": 12,
     "metadata": {},
     "output_type": "execute_result"
    }
   ],
   "source": [
    "grid.predict([\n",
    "    clean_review(\"Wery tasty!\"),\n",
    "    clean_review(\"Not wery tasty.\"),\n",
    "    clean_review(\"Disappointed a lot\")\n",
    "])"
   ]
  }
 ],
 "metadata": {
  "accelerator": "GPU",
  "colab": {
   "collapsed_sections": [],
   "name": "Review classifier.ipynb",
   "provenance": [],
   "toc_visible": true
  },
  "kernelspec": {
   "display_name": "Python 3",
   "language": "python",
   "name": "python3"
  },
  "language_info": {
   "codemirror_mode": {
    "name": "ipython",
    "version": 3
   },
   "file_extension": ".py",
   "mimetype": "text/x-python",
   "name": "python",
   "nbconvert_exporter": "python",
   "pygments_lexer": "ipython3",
   "version": "3.8.6"
  }
 },
 "nbformat": 4,
 "nbformat_minor": 1
}
